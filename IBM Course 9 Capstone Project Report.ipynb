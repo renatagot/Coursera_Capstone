{
 "cells": [
  {
   "cell_type": "markdown",
   "metadata": {},
   "source": [
    "# Capstone Project Report: Venues That Predict Physical Activity Levels in America by State"
   ]
  },
  {
   "cell_type": "markdown",
   "metadata": {},
   "source": [
    "By Renata Bastos Gottgtroy, June 2020"
   ]
  },
  {
   "cell_type": "markdown",
   "metadata": {},
   "source": [
    "## Introduction"
   ]
  },
  {
   "cell_type": "markdown",
   "metadata": {},
   "source": [
    "Regular physical activity can have many positive outcomes to the individual. Some of these benefits include:\n",
    "- Reduced risk of a heart attack, type 2 diaetes, osteoporosis and some cancers\n",
    "- Weight management \n",
    "- Decreased blood cholesterol level and blood pressure\n",
    "- Increased strength in the bones, muscles and joints\n",
    "- Decreased risk of falls \n",
    "- Improved recovery from periods of hospitalisation or bed rest \n",
    "- Feeling better – increased energy, better mood, feel more relaxed and sleep better\n",
    "\n",
    "While these benefits can improve the lives of individuals, they are also extremely beneficial for the society as a whole. The costs of health related issues that can be reduced through increased physical activity levels are immense. For example, heart diseases cost the United States about $219 billion each year (from 2014 to 2015). This includes the cost of health care services, medicines, and lost productivity due to death.\n",
    "\n",
    "The Division of Nutrition, Physical Activity and Nutrition (DNPAO) of the Centers for Disease Control and Prevention have a budget of $103.8 million (2019) to improve nutrition, support breastfeeding, increase physical activity, reduce obesity, and reduce disparities. To meet these goals, 2 of the functions of the DNPAO is to study interventions to identify the best ways to create healthier environments in early care and education (ECE) facilities, worksites, hospitals, and communities, and share information to help decision makers understand how to improve their communities to support healthy eating and active living. Information on factors that predict physical activity levels are therefore valuable to the DNPAO.\n",
    "\n",
    "There are several barriers to physical activity. One of the commonly reported barriers to physical activity is access to physical activity friendly spaces and facilities such as parks and gyms. There may also be venues that discourage physical actvity, for example fast food joints. Information regarding the number of different types of venues and their ability to predict physical activity levels could indicate barriers and facilitators of physical activity or inactivity. The output of this project could be used by the DNPAO to improve the number of facilitating venues in communities to increase physical activity levels and consequently, overall health. Therefore, the aim of this project is to explore which venue categories best predict the physical activity levels of Americans. "
   ]
  },
  {
   "cell_type": "markdown",
   "metadata": {},
   "source": [
    "References: \n",
    "- https://www.betterhealth.vic.gov.au/health/healthyliving/physical-activity-its-important\n",
    "- https://www.cdc.gov/heartdisease/facts.htm\n",
    "- https://www.cdc.gov/nccdphp/dnpao/division-information/aboutus/index.htm\n",
    "- https://www.physio-pedia.com/Barriers_to_Physical_Activity"
   ]
  },
  {
   "cell_type": "markdown",
   "metadata": {},
   "source": [
    "## Data"
   ]
  },
  {
   "cell_type": "markdown",
   "metadata": {},
   "source": [
    "In order to explore which venue categories best predict the physical activity levels of Americans, two datasets will be used. \n",
    "\n",
    "Physical actvity level data will be sourced from the Division of Nutrition, Physical Activity and Nutrition (DNPAO) data portal. The original datatset source is the Behavioral Risk Factor Surveillance System (BRFSS). This dataset contains the percentage of physically active adults per State in America for the year 2017. There are different indicators of physical activity available in this dataset. The two of interest were:\n",
    "\n",
    "1. \"Adults meeting aerobic and muscle strengthening guidelines\"\n",
    "2. \"Adults who engage in no leisure-time physical activity\"\n",
    "\n",
    "The second option has been chosen as the indicator of physical activity for this project and will be the target or dependent variable. This is because availability of venues has been assumed to have a greater impact on if an adult does or does not undertake physical actvity compared to the amount that adults are active. \n",
    "\n",
    "\"Respondents were classified as participating in no leisure-time physical activity if they responded \"no\" to the following question: \"During the past month, other than your regular job, did you participate in any physical activities or exercises such as running, calisthenics, golf, gardening, or walking for exercise?\" Adults aged ≥ 18 years. Respondents with missing data were excluded.\"\n",
    "\n",
    "Foursquare location data will be used to extract the different venue categories. To correspond to the physical activity data, the number of different venue categories will be extrated by State in America. Venue categories will include but are not limited to parks, gyms and fitness facilities.\n",
    "\n",
    "Physical activity data citation: Centers for Disease Control and Prevention. National Center for Chronic Disease Prevention and Health Promotion, Division of Nutrition, Physical Activity, and Obesity. Data, Trend and Maps [online]. [accessed Jun 29, 2020]. URL: https://www.cdc.gov/nccdphp/dnpao/data-trends-maps/index.html.\n",
    "\n",
    "https://nyshealthfoundation.org/resource/health-behaviors-ny-us/?gclid=Cj0KCQjwoub3BRC6ARIsABGhnyaucAj-Ug2vAs6fpmbs5Vp-5Jp5HqhdgYZgQ9FY85K7jxD3UwWbr-8aAkDXEALw_wcB#physical-inactivity-by-new-york-county"
   ]
  },
  {
   "cell_type": "markdown",
   "metadata": {},
   "source": [
    "## Methodology"
   ]
  },
  {
   "cell_type": "markdown",
   "metadata": {},
   "source": [
    "1. Download to local comp physical activity data as csv. file\n",
    "2. Read csv file\n",
    "3. Clean physical activity dataframe\n",
    "4. Request foursquare data\n"
   ]
  },
  {
   "cell_type": "markdown",
   "metadata": {},
   "source": [
    "## Results"
   ]
  },
  {
   "cell_type": "raw",
   "metadata": {},
   "source": []
  },
  {
   "cell_type": "markdown",
   "metadata": {},
   "source": [
    "## Discussion"
   ]
  },
  {
   "cell_type": "code",
   "execution_count": null,
   "metadata": {},
   "outputs": [],
   "source": []
  },
  {
   "cell_type": "markdown",
   "metadata": {},
   "source": [
    "## Conclusion"
   ]
  },
  {
   "cell_type": "code",
   "execution_count": null,
   "metadata": {},
   "outputs": [],
   "source": []
  }
 ],
 "metadata": {
  "kernelspec": {
   "display_name": "Python 3",
   "language": "python",
   "name": "python3"
  },
  "language_info": {
   "codemirror_mode": {
    "name": "ipython",
    "version": 3
   },
   "file_extension": ".py",
   "mimetype": "text/x-python",
   "name": "python",
   "nbconvert_exporter": "python",
   "pygments_lexer": "ipython3",
   "version": "3.7.6"
  }
 },
 "nbformat": 4,
 "nbformat_minor": 4
}
